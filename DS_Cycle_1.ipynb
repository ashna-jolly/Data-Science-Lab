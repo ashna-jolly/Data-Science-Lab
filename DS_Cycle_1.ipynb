{
  "nbformat": 4,
  "nbformat_minor": 0,
  "metadata": {
    "colab": {
      "name": "DS Cycle 1.ipynb",
      "provenance": [],
      "authorship_tag": "ABX9TyNefA5uC6buCBvn9o0OE9Y0",
      "include_colab_link": true
    },
    "kernelspec": {
      "name": "python3",
      "display_name": "Python 3"
    },
    "language_info": {
      "name": "python"
    }
  },
  "cells": [
    {
      "cell_type": "markdown",
      "metadata": {
        "id": "view-in-github",
        "colab_type": "text"
      },
      "source": [
        "<a href=\"https://colab.research.google.com/github/ashna-jolly/Data-Science-Lab/blob/main/DS_Cycle_1.ipynb\" target=\"_parent\"><img src=\"https://colab.research.google.com/assets/colab-badge.svg\" alt=\"Open In Colab\"/></a>"
      ]
    },
    {
      "cell_type": "code",
      "metadata": {
        "id": "G4bpvY08CgXf",
        "colab": {
          "base_uri": "https://localhost:8080/"
        },
        "outputId": "e2cf1d84-7d10-42d0-8e9c-ba42f670d332"
      },
      "source": [
        "#1. Program to Print all non-Prime Numbers in an Interval\n",
        "\n",
        "a = int(input(\"enter lower bound :\"))\n",
        "b = int(input(\"enter upper bound :\"))\n",
        "for n in range(a,b+1):\n",
        "    if n > 1:\n",
        "        for i in range(2,n):\n",
        "            if (n % i) == 0 :\n",
        "              print(n)\n",
        "              break"
      ],
      "execution_count": 1,
      "outputs": [
        {
          "output_type": "stream",
          "name": "stdout",
          "text": [
            "enter lower bound :0\n",
            "enter upper bound :10\n",
            "4\n",
            "6\n",
            "8\n",
            "9\n",
            "10\n"
          ]
        }
      ]
    },
    {
      "cell_type": "code",
      "metadata": {
        "id": "QhCofQT1CiM6",
        "colab": {
          "base_uri": "https://localhost:8080/"
        },
        "outputId": "6f32053a-4da2-4e00-f8d0-58574a882940"
      },
      "source": [
        "#2. Program to print the first N Fibonacci numbers.\n",
        "\n",
        "n=int(input(\"enter the value of n : \"))\n",
        "a=0\n",
        "b=1\n",
        "sum=0\n",
        "count=1\n",
        "print(\"fibonacci series : \")\n",
        "while (count<=n):\n",
        "  print(sum,end=\" \")\n",
        "  count+=1\n",
        "  a=b\n",
        "  b=sum\n",
        "  sum=a+b"
      ],
      "execution_count": 2,
      "outputs": [
        {
          "output_type": "stream",
          "name": "stdout",
          "text": [
            "enter the value of n : 10\n",
            "fibonacci series : \n",
            "0 1 1 2 3 5 8 13 21 34 "
          ]
        }
      ]
    },
    {
      "cell_type": "code",
      "metadata": {
        "id": "UtMnFRIZCk8J",
        "colab": {
          "base_uri": "https://localhost:8080/"
        },
        "outputId": "b53f06e9-be5d-40d6-8940-2c4170d74c90"
      },
      "source": [
        "#3. Given sides of a triangle, write a program to check whether given triangle is an isosceles, equilateral or scalene.\n",
        "\n",
        "a=int(input(\"enter the value of side1 : \"))\n",
        "b=int(input(\"enter the value of side2 : \"))\n",
        "c=int(input(\"enter the value of side3 : \"))\n",
        "\n",
        "def checktriangle(a,b,c):\n",
        "  if a==b==c :\n",
        "    print(\"given is equilateral triangle.\")\n",
        "  elif a==b or b==c or a==c :\n",
        "    print(\"given is isosceles triangle.\")\n",
        "  else :\n",
        "    print(\"given is scalene triangle.\")\n",
        "\n",
        "checktriangle(a,b,c)"
      ],
      "execution_count": 3,
      "outputs": [
        {
          "output_type": "stream",
          "name": "stdout",
          "text": [
            "enter the value of side1 : 4\n",
            "enter the value of side2 : 6\n",
            "enter the value of side3 : 4\n",
            "given is isosceles triangle.\n"
          ]
        }
      ]
    },
    {
      "cell_type": "code",
      "metadata": {
        "id": "LET_WsDJCnjo",
        "colab": {
          "base_uri": "https://localhost:8080/"
        },
        "outputId": "addeb119-b25e-4d12-dc6c-d330ba8564ff"
      },
      "source": [
        "#4. Program to check whether given pair of number is coprime.\n",
        "\n",
        "num1=int(input(\"enter the num1  : \"))\n",
        "num2=int(input(\"enter the num2 : \"))\n",
        "\n",
        "def checkprime(a,b):\n",
        "  for i in range(1,a+1):\n",
        "    a%i==0 and b%i==0\n",
        "    hcf=i\n",
        "  return hcf==1\n",
        "\n",
        "if checkprime(num1,num2):\n",
        "  print(\"%d and %d are coprime.\"%(num1,num2))\n",
        "else:\n",
        "  print(\"%d and %d are not coprime.\"%(num1,num2))"
      ],
      "execution_count": 4,
      "outputs": [
        {
          "output_type": "stream",
          "name": "stdout",
          "text": [
            "enter the num1  : 2\n",
            "enter the num2 : 4\n",
            "2 and 4 are not coprime.\n"
          ]
        }
      ]
    },
    {
      "cell_type": "code",
      "metadata": {
        "id": "L2qsebO-CqEI",
        "colab": {
          "base_uri": "https://localhost:8080/"
        },
        "outputId": "432bd673-fe6e-412c-85a7-f43d2f7f68d2"
      },
      "source": [
        "#5. Program to find the roots of a quadratic equation(rounded to 2 decimal places)\n",
        "\n",
        "import cmath\n",
        "\n",
        "a=int(input(\"enter the value of a : \"))\n",
        "b=int(input(\"enter the value of b : \"))\n",
        "c=int(input(\"enter the value of c : \"))\n",
        "\n",
        "d=(b**2)-(4*a*c)\n",
        "\n",
        "root1 = (-b-cmath.sqrt(d))/(2*a)\n",
        "root2 = (-b+cmath.sqrt(d))/(2*a)\n",
        "\n",
        "print(\"{0} and {1} are the roots of a quadratic equation.\".format(root1,root2))"
      ],
      "execution_count": 6,
      "outputs": [
        {
          "output_type": "stream",
          "name": "stdout",
          "text": [
            "enter the value of a : 4\n",
            "enter the value of b : 5\n",
            "enter the value of c : 3\n",
            "(-0.625-0.5994789404140899j) and (-0.625+0.5994789404140899j) are the roots of a quadratic equation.\n"
          ]
        }
      ]
    },
    {
      "cell_type": "code",
      "metadata": {
        "id": "IjsfjKUsCszQ",
        "colab": {
          "base_uri": "https://localhost:8080/"
        },
        "outputId": "9e66d235-434e-4d9d-cc64-dba3f2d9dbb5"
      },
      "source": [
        "#6. Program to check whether a given number is perfect number or not(sum of factors=number)\n",
        "\n",
        "n=int(input(\"enter any value : \"))\n",
        "sum=0\n",
        "for i in range(1,n):\n",
        "  if n % i == 0:\n",
        "    sum=sum+i\n",
        "if(sum==n):\n",
        "  print(n,\"is a perfect number.\")\n",
        "else:\n",
        "  print(n,\"is not a perfect number.\")"
      ],
      "execution_count": 5,
      "outputs": [
        {
          "output_type": "stream",
          "name": "stdout",
          "text": [
            "enter any value : 6\n",
            "6 is a perfect number.\n"
          ]
        }
      ]
    },
    {
      "cell_type": "code",
      "metadata": {
        "id": "Rs00tcT3CvdA",
        "colab": {
          "base_uri": "https://localhost:8080/"
        },
        "outputId": "03b0ef74-82bb-4255-d920-178b86582e30"
      },
      "source": [
        "#7. Program to display amstrong numbers upto 1000.\n",
        "\n",
        "for n in range(0,1000):\n",
        "  sum=0\n",
        "  temp=n\n",
        "  while temp>0:\n",
        "    a=temp%10\n",
        "    sum+=a**3\n",
        "    temp//=10\n",
        "    if n==sum:\n",
        "      print(n)"
      ],
      "execution_count": 7,
      "outputs": [
        {
          "output_type": "stream",
          "name": "stdout",
          "text": [
            "1\n",
            "64\n",
            "125\n",
            "153\n",
            "216\n",
            "370\n",
            "371\n",
            "407\n",
            "729\n"
          ]
        }
      ]
    },
    {
      "cell_type": "code",
      "metadata": {
        "id": "X4oiDUw4CyLQ",
        "colab": {
          "base_uri": "https://localhost:8080/"
        },
        "outputId": "f0c17d88-7b86-4a31-fc5f-0dfdd3753ab1"
      },
      "source": [
        "#8. Store and display the days of a week as a List, Tuple, Dictionary, Set. Also demonstrate different ways to store values in each of them. Display its type also.\n",
        "\n",
        "l=[\"monday\",\"tuesday\",\"wednesday\",\"thursday\",\"friday\",\"saturday\",\"sunday\"]\n",
        "t=(\"monday\",\"tuesday\",\"wednesday\",\"thursday\",\"friday\",\"saturday\",\"sunday\")\n",
        "d={\"monday\",\"tuesday\",\"wednesday\",\"thursday\",\"friday\",\"saturday\",\"sunday\"}\n",
        "print(\"the value of\",l,\"is of the type\",type(l))\n",
        "print(\"the value of\",t,\"is of the type\",type(t))\n",
        "print(\"the value of\",d,\"is of the type\",type(d))"
      ],
      "execution_count": 8,
      "outputs": [
        {
          "output_type": "stream",
          "name": "stdout",
          "text": [
            "the value of ['monday', 'tuesday', 'wednesday', 'thursday', 'friday', 'saturday', 'sunday'] is of the type <class 'list'>\n",
            "the value of ('monday', 'tuesday', 'wednesday', 'thursday', 'friday', 'saturday', 'sunday') is of the type <class 'tuple'>\n",
            "the value of {'tuesday', 'wednesday', 'monday', 'friday', 'thursday', 'sunday', 'saturday'} is of the type <class 'set'>\n"
          ]
        }
      ]
    },
    {
      "cell_type": "code",
      "metadata": {
        "id": "Le6G970JC09w",
        "colab": {
          "base_uri": "https://localhost:8080/"
        },
        "outputId": "71199c35-d336-4c48-db7b-cb51595895ba"
      },
      "source": [
        "#9. Write a program to add elements of given 2 lists.\n",
        "\n",
        "list1=[\"apple\",\"banana\",\"cherry\"]\n",
        "list2=[\"grapes\",\"kiwi\",\"gauva\"]\n",
        "list1.extend(list2)\n",
        "print(list1)"
      ],
      "execution_count": 9,
      "outputs": [
        {
          "output_type": "stream",
          "name": "stdout",
          "text": [
            "['apple', 'banana', 'cherry', 'grapes', 'kiwi', 'gauva']\n"
          ]
        }
      ]
    },
    {
      "cell_type": "code",
      "metadata": {
        "id": "taTwE6Y1C35Y",
        "colab": {
          "base_uri": "https://localhost:8080/"
        },
        "outputId": "913a57fb-7983-4106-8a96-9e53747ffe7f"
      },
      "source": [
        "#10. Write a program to find the sum of 2 matrices using nested List.\n",
        "\n",
        "x=[[1,2,3],\n",
        "   [4,5,6],\n",
        "   [7,8,9]]\n",
        "y=[[9,8,7],\n",
        "   [6,5,4],\n",
        "   [3,2,1]]\n",
        "z=[[0,0,0],\n",
        "   [0,0,0],\n",
        "   [0,0,0]]\n",
        "for i  in range(len(x)):\n",
        "  for j in range(len(x[0])):\n",
        "    z[i][j]=x[i][j]+y[i][j]\n",
        "for k in z:\n",
        "  print(k)"
      ],
      "execution_count": 10,
      "outputs": [
        {
          "output_type": "stream",
          "name": "stdout",
          "text": [
            "[10, 10, 10]\n",
            "[10, 10, 10]\n",
            "[10, 10, 10]\n"
          ]
        }
      ]
    },
    {
      "cell_type": "code",
      "metadata": {
        "id": "Uq5ZRghYC6hx",
        "colab": {
          "base_uri": "https://localhost:8080/"
        },
        "outputId": "839a0393-0b5b-4dc3-e488-131f787ffd84"
      },
      "source": [
        "#11. Write a program to perform bubble sort on a given set of elements.\n",
        "\n",
        "l=[]\n",
        "n=int(input(\"enter the no. elements :\"))\n",
        "for i in range(0,n):\n",
        "  x=input()\n",
        "  l.append(x)\n",
        "print(\"before sorting elements\")\n",
        "for i in l:\n",
        "  print(i,end=\" \")\n",
        "for i in range(0,len(l)):\n",
        "  for j in range(i+1,len(l)):\n",
        "    if l[j]< l[i]:\n",
        "      temp=l[j]\n",
        "      l[j]=l[i]\n",
        "      l[i]=temp\n",
        "print(\"\\nafter bubble sort\")\n",
        "for i in l:\n",
        "  print(i,end=\" \")"
      ],
      "execution_count": 11,
      "outputs": [
        {
          "output_type": "stream",
          "name": "stdout",
          "text": [
            "enter the no. elements :5\n",
            "10\n",
            "30\n",
            "60\n",
            "20\n",
            "40\n",
            "before sorting elements\n",
            "10 30 60 20 40 \n",
            "after bubble sort\n",
            "10 20 30 40 60 "
          ]
        }
      ]
    },
    {
      "cell_type": "code",
      "metadata": {
        "id": "kLkLZZQ4C84o",
        "colab": {
          "base_uri": "https://localhost:8080/"
        },
        "outputId": "efeec549-3753-4f89-848f-335ec45af662"
      },
      "source": [
        "#12. Program to find the count of each vowel in a string(use dictionary).\n",
        "\n",
        "vowel='aeiou'\n",
        "str1=input(\"enter the string :\")\n",
        "str1=str1.lower()\n",
        "count = {}.fromkeys(vowel,0)\n",
        "for char in str1:\n",
        "   if char in count:\n",
        "       count[char] += 1\n",
        "print(count)"
      ],
      "execution_count": 12,
      "outputs": [
        {
          "output_type": "stream",
          "name": "stdout",
          "text": [
            "enter the string :good morning\n",
            "{'a': 0, 'e': 0, 'i': 1, 'o': 3, 'u': 0}\n"
          ]
        }
      ]
    },
    {
      "cell_type": "code",
      "metadata": {
        "id": "1gWHsjjI_CnY"
      },
      "source": [
        "#13. Write a Python program that accept a positive number and subtract from thisnumber the sum of its digits and so on. Continues this operation until the number is positive\n",
        "\n",
        "def repeat_times(n):\n",
        "  s = 0\n",
        "  n_str = str(n)\n",
        "  while n > 0:\n",
        "    n -= sum([int(i) for i in list(n_str)])\n",
        "    n_str = list(str(n))\n",
        "    s += 1\n",
        "  return s\n",
        "\n",
        "print(repeat_times(12))"
      ],
      "execution_count": null,
      "outputs": []
    },
    {
      "cell_type": "code",
      "metadata": {
        "id": "JKA5XcJ_DBUw",
        "colab": {
          "base_uri": "https://localhost:8080/"
        },
        "outputId": "9e682969-5f87-49e4-da5e-5a00bfed058e"
      },
      "source": [
        "#14. Write a Python program that accepts a 10 digit mobile number, and find the digits which are absent in a given mobile number\n",
        "\n",
        "def absent_digits(n):\n",
        "  all_nums = set([0,1,2,3,4,5,6,7,8,9])\n",
        "  n = set([int(i) for i in n])\n",
        "  n = n.symmetric_difference(all_nums)\n",
        "  n = sorted(n)\n",
        "  return n\n",
        "print(absent_digits([9,8,3,2,2,0,9,7,6,3]))"
      ],
      "execution_count": 14,
      "outputs": [
        {
          "output_type": "stream",
          "name": "stdout",
          "text": [
            "[1, 4, 5]\n"
          ]
        }
      ]
    }
  ]
}